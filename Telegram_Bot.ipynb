{
  "nbformat": 4,
  "nbformat_minor": 0,
  "metadata": {
    "colab": {
      "provenance": [],
      "collapsed_sections": []
    },
    "kernelspec": {
      "name": "python3",
      "display_name": "Python 3"
    },
    "language_info": {
      "name": "python"
    }
  },
  "cells": [
    {
      "cell_type": "code",
      "source": [
        "pip install python-telegram-bot -U --pre"
      ],
      "metadata": {
        "colab": {
          "base_uri": "https://localhost:8080/"
        },
        "id": "rJ-wPtJjpSJG",
        "outputId": "008f3385-bdef-4662-e3f5-5c81cc8b3ad9"
      },
      "execution_count": 106,
      "outputs": [
        {
          "output_type": "stream",
          "name": "stderr",
          "text": [
            "ERROR:telegram.ext.updater:Error while getting Updates: Conflict: terminated by other getUpdates request; make sure that only one bot instance is running\n",
            "ERROR:telegram.ext.dispatcher:No error handlers are registered, logging exception.\n",
            "Traceback (most recent call last):\n",
            "  File \"/usr/local/lib/python3.7/dist-packages/telegram/ext/updater.py\", line 651, in _network_loop_retry\n",
            "  File \"/usr/local/lib/python3.7/dist-packages/telegram/ext/updater.py\", line 606, in polling_action_cb\n",
            "  File \"/usr/local/lib/python3.7/dist-packages/telegram/ext/extbot.py\", line 232, in get_updates\n",
            "  File \"/usr/local/lib/python3.7/dist-packages/telegram/bot.py\", line 133, in decorator\n",
            "  File \"/usr/local/lib/python3.7/dist-packages/telegram/bot.py\", line 3061, in get_updates\n",
            "  File \"/usr/local/lib/python3.7/dist-packages/telegram/bot.py\", line 299, in _post\n",
            "  File \"/usr/local/lib/python3.7/dist-packages/telegram/utils/request.py\", line 366, in post\n",
            "  File \"/usr/local/lib/python3.7/dist-packages/telegram/utils/request.py\", line 283, in _request_wrapper\n",
            "telegram.error.Conflict: Conflict: terminated by other getUpdates request; make sure that only one bot instance is running\n"
          ]
        },
        {
          "output_type": "stream",
          "name": "stdout",
          "text": [
            "Looking in indexes: https://pypi.org/simple, https://us-python.pkg.dev/colab-wheels/public/simple/\n",
            "Requirement already satisfied: python-telegram-bot in /usr/local/lib/python3.7/dist-packages (20.0a4)\n",
            "Requirement already satisfied: httpx~=0.23.0 in /usr/local/lib/python3.7/dist-packages (from python-telegram-bot) (0.23.0)\n",
            "Requirement already satisfied: pytz>=2018.6 in /usr/local/lib/python3.7/dist-packages (from python-telegram-bot) (2022.4)\n",
            "Requirement already satisfied: APScheduler~=3.9.1 in /usr/local/lib/python3.7/dist-packages (from python-telegram-bot) (3.9.1)\n",
            "Requirement already satisfied: cachetools~=5.2.0 in /usr/local/lib/python3.7/dist-packages (from python-telegram-bot) (5.2.0)\n",
            "Requirement already satisfied: tornado~=6.2 in /usr/local/lib/python3.7/dist-packages (from python-telegram-bot) (6.2)\n",
            "Requirement already satisfied: tzlocal!=3.*,>=2.0 in /usr/local/lib/python3.7/dist-packages (from APScheduler~=3.9.1->python-telegram-bot) (4.2)\n",
            "Requirement already satisfied: six>=1.4.0 in /usr/local/lib/python3.7/dist-packages (from APScheduler~=3.9.1->python-telegram-bot) (1.15.0)\n",
            "Requirement already satisfied: setuptools>=0.7 in /usr/local/lib/python3.7/dist-packages (from APScheduler~=3.9.1->python-telegram-bot) (57.4.0)\n",
            "Requirement already satisfied: rfc3986[idna2008]<2,>=1.3 in /usr/local/lib/python3.7/dist-packages (from httpx~=0.23.0->python-telegram-bot) (1.5.0)\n",
            "Requirement already satisfied: certifi in /usr/local/lib/python3.7/dist-packages (from httpx~=0.23.0->python-telegram-bot) (2022.9.24)\n",
            "Requirement already satisfied: sniffio in /usr/local/lib/python3.7/dist-packages (from httpx~=0.23.0->python-telegram-bot) (1.3.0)\n",
            "Requirement already satisfied: httpcore<0.16.0,>=0.15.0 in /usr/local/lib/python3.7/dist-packages (from httpx~=0.23.0->python-telegram-bot) (0.15.0)\n",
            "Requirement already satisfied: anyio==3.* in /usr/local/lib/python3.7/dist-packages (from httpcore<0.16.0,>=0.15.0->httpx~=0.23.0->python-telegram-bot) (3.6.1)\n",
            "Requirement already satisfied: h11<0.13,>=0.11 in /usr/local/lib/python3.7/dist-packages (from httpcore<0.16.0,>=0.15.0->httpx~=0.23.0->python-telegram-bot) (0.12.0)\n",
            "Requirement already satisfied: typing-extensions in /usr/local/lib/python3.7/dist-packages (from anyio==3.*->httpcore<0.16.0,>=0.15.0->httpx~=0.23.0->python-telegram-bot) (4.1.1)\n",
            "Requirement already satisfied: idna>=2.8 in /usr/local/lib/python3.7/dist-packages (from anyio==3.*->httpcore<0.16.0,>=0.15.0->httpx~=0.23.0->python-telegram-bot) (2.10)\n",
            "Requirement already satisfied: backports.zoneinfo in /usr/local/lib/python3.7/dist-packages (from tzlocal!=3.*,>=2.0->APScheduler~=3.9.1->python-telegram-bot) (0.2.1)\n",
            "Requirement already satisfied: pytz-deprecation-shim in /usr/local/lib/python3.7/dist-packages (from tzlocal!=3.*,>=2.0->APScheduler~=3.9.1->python-telegram-bot) (0.1.0.post0)\n",
            "Requirement already satisfied: tzdata in /usr/local/lib/python3.7/dist-packages (from pytz-deprecation-shim->tzlocal!=3.*,>=2.0->APScheduler~=3.9.1->python-telegram-bot) (2022.5)\n"
          ]
        },
        {
          "output_type": "stream",
          "name": "stderr",
          "text": [
            "ERROR:telegram.ext.updater:Error while getting Updates: Conflict: terminated by other getUpdates request; make sure that only one bot instance is running\n",
            "ERROR:telegram.ext.dispatcher:No error handlers are registered, logging exception.\n",
            "Traceback (most recent call last):\n",
            "  File \"/usr/local/lib/python3.7/dist-packages/telegram/ext/updater.py\", line 651, in _network_loop_retry\n",
            "  File \"/usr/local/lib/python3.7/dist-packages/telegram/ext/updater.py\", line 606, in polling_action_cb\n",
            "  File \"/usr/local/lib/python3.7/dist-packages/telegram/ext/extbot.py\", line 232, in get_updates\n",
            "  File \"/usr/local/lib/python3.7/dist-packages/telegram/bot.py\", line 133, in decorator\n",
            "  File \"/usr/local/lib/python3.7/dist-packages/telegram/bot.py\", line 3061, in get_updates\n",
            "  File \"/usr/local/lib/python3.7/dist-packages/telegram/bot.py\", line 299, in _post\n",
            "  File \"/usr/local/lib/python3.7/dist-packages/telegram/utils/request.py\", line 366, in post\n",
            "  File \"/usr/local/lib/python3.7/dist-packages/telegram/utils/request.py\", line 283, in _request_wrapper\n",
            "telegram.error.Conflict: Conflict: terminated by other getUpdates request; make sure that only one bot instance is running\n",
            "ERROR:telegram.ext.updater:Error while getting Updates: Conflict: terminated by other getUpdates request; make sure that only one bot instance is running\n",
            "ERROR:telegram.ext.dispatcher:No error handlers are registered, logging exception.\n",
            "Traceback (most recent call last):\n",
            "  File \"/usr/local/lib/python3.7/dist-packages/telegram/ext/updater.py\", line 651, in _network_loop_retry\n",
            "  File \"/usr/local/lib/python3.7/dist-packages/telegram/ext/updater.py\", line 606, in polling_action_cb\n",
            "  File \"/usr/local/lib/python3.7/dist-packages/telegram/ext/extbot.py\", line 232, in get_updates\n",
            "  File \"/usr/local/lib/python3.7/dist-packages/telegram/bot.py\", line 133, in decorator\n",
            "  File \"/usr/local/lib/python3.7/dist-packages/telegram/bot.py\", line 3061, in get_updates\n",
            "  File \"/usr/local/lib/python3.7/dist-packages/telegram/bot.py\", line 299, in _post\n",
            "  File \"/usr/local/lib/python3.7/dist-packages/telegram/utils/request.py\", line 366, in post\n",
            "  File \"/usr/local/lib/python3.7/dist-packages/telegram/utils/request.py\", line 283, in _request_wrapper\n",
            "telegram.error.Conflict: Conflict: terminated by other getUpdates request; make sure that only one bot instance is running\n"
          ]
        }
      ]
    },
    {
      "cell_type": "code",
      "source": [
        "from telegram.ext.updater import Updater\n",
        "from telegram.update import Update\n",
        "from telegram.ext.callbackcontext import CallbackContext\n",
        "from telegram.ext.commandhandler import CommandHandler\n",
        "from telegram.ext.messagehandler import MessageHandler\n",
        "from telegram.ext.filters import Filters"
      ],
      "metadata": {
        "id": "tXFaHmf3rwEq"
      },
      "execution_count": 107,
      "outputs": []
    },
    {
      "cell_type": "code",
      "source": [
        "updater = Updater(\"5454343386:AAEyzUOg3qgXSRTrO6SNuvsIWPzwCzhefw0\",use_context=True)\n",
        "\n",
        "def start(update: Update, context: CallbackContext):\n",
        "\tupdate.message.reply_text(\n",
        "\t\t\"Welcome to SmartOnes Bot!\\n\"\n",
        "    \" Click /help to get the commands\")"
      ],
      "metadata": {
        "id": "YkDWf-Icr4S8"
      },
      "execution_count": 108,
      "outputs": []
    },
    {
      "cell_type": "code",
      "source": [
        "def help(update: Update, context: CallbackContext):\n",
        "\tupdate.message.reply_text(\"Available commands: \"\n",
        "  \"/gmail /youtube /linkedIn\")"
      ],
      "metadata": {
        "id": "bdhpAPQDsTAC"
      },
      "execution_count": 109,
      "outputs": []
    },
    {
      "cell_type": "code",
      "source": [
        "def gmail_url(update: Update, context: CallbackContext):\n",
        "\tupdate.message.reply_text(\"https://mail.google.com/mail/\")\n",
        "\n",
        "def youtube_url(update: Update, context: CallbackContext):\n",
        "\tupdate.message.reply_text(\"https://www.youtube.com/\")\n",
        "\n",
        "def linkedIn_url(update: Update, context: CallbackContext):\n",
        "\tupdate.message.reply_text(\"https://www.linkedin.com/login\")\n",
        "\n",
        "def unknown_text(update: Update, context: CallbackContext):\n",
        "\tupdate.message.reply_text(\"Sorry I can't recognize you , you said '%s'\" % update.message.text)\n",
        "\n",
        "def unknown(update: Update, context: CallbackContext):\n",
        "\tupdate.message.reply_text(\"Sorry '%s' is not a valid command\" % update.message.text)"
      ],
      "metadata": {
        "id": "1DBKfEgSsrNm"
      },
      "execution_count": 110,
      "outputs": []
    },
    {
      "cell_type": "code",
      "source": [
        "updater.dispatcher.add_handler(CommandHandler('start', start))\n",
        "updater.dispatcher.add_handler(CommandHandler('youtube', youtube_url))\n",
        "updater.dispatcher.add_handler(CommandHandler('help', help))\n",
        "updater.dispatcher.add_handler(CommandHandler('linkedin', linkedIn_url))\n",
        "updater.dispatcher.add_handler(CommandHandler('gmail', gmail_url))\n",
        "updater.dispatcher.add_handler(MessageHandler(Filters.text, unknown))\n",
        "updater.dispatcher.add_handler(MessageHandler(Filters.command, unknown))\n",
        "\n",
        "# Filters out unknown messages.\n",
        "updater.dispatcher.add_handler(MessageHandler(Filters.text, unknown_text))"
      ],
      "metadata": {
        "id": "Te0z7wY9s1zQ"
      },
      "execution_count": 111,
      "outputs": []
    },
    {
      "cell_type": "code",
      "source": [
        "updater.start_polling()"
      ],
      "metadata": {
        "colab": {
          "base_uri": "https://localhost:8080/"
        },
        "id": "Od6YHSEys89X",
        "outputId": "fa0bfbe6-fdce-4547-ee8f-03dd01f9990d"
      },
      "execution_count": 112,
      "outputs": [
        {
          "output_type": "execute_result",
          "data": {
            "text/plain": [
              "<queue.Queue at 0x7fc4e6d6a410>"
            ]
          },
          "metadata": {},
          "execution_count": 112
        },
        {
          "output_type": "stream",
          "name": "stderr",
          "text": [
            "ERROR:telegram.ext.updater:Error while getting Updates: Conflict: terminated by other getUpdates request; make sure that only one bot instance is running\n",
            "ERROR:telegram.ext.dispatcher:No error handlers are registered, logging exception.\n",
            "Traceback (most recent call last):\n",
            "  File \"/usr/local/lib/python3.7/dist-packages/telegram/ext/updater.py\", line 651, in _network_loop_retry\n",
            "  File \"/usr/local/lib/python3.7/dist-packages/telegram/ext/updater.py\", line 606, in polling_action_cb\n",
            "  File \"/usr/local/lib/python3.7/dist-packages/telegram/ext/extbot.py\", line 232, in get_updates\n",
            "  File \"/usr/local/lib/python3.7/dist-packages/telegram/bot.py\", line 133, in decorator\n",
            "  File \"/usr/local/lib/python3.7/dist-packages/telegram/bot.py\", line 3061, in get_updates\n",
            "  File \"/usr/local/lib/python3.7/dist-packages/telegram/bot.py\", line 299, in _post\n",
            "  File \"/usr/local/lib/python3.7/dist-packages/telegram/utils/request.py\", line 366, in post\n",
            "  File \"/usr/local/lib/python3.7/dist-packages/telegram/utils/request.py\", line 283, in _request_wrapper\n",
            "telegram.error.Conflict: Conflict: terminated by other getUpdates request; make sure that only one bot instance is running\n"
          ]
        }
      ]
    }
  ]
}